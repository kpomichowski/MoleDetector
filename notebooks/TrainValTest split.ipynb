{
 "cells": [
  {
   "cell_type": "code",
   "execution_count": 2,
   "id": "e6bc1b93",
   "metadata": {},
   "outputs": [],
   "source": [
    "import pandas as pd\n",
    "import seaborn as sns\n",
    "import numpy as np\n",
    "import matplotlib.pyplot as plt\n",
    "from sklearn import model_selection"
   ]
  },
  {
   "cell_type": "code",
   "execution_count": 2,
   "id": "fd9241a1",
   "metadata": {},
   "outputs": [],
   "source": [
    "df = pd.read_csv('../data/HAM10000_unique.csv', index_col=0)"
   ]
  },
  {
   "cell_type": "code",
   "execution_count": 3,
   "id": "a8e9a8f0",
   "metadata": {},
   "outputs": [],
   "source": [
    "df_or = pd.read_csv('../data/HAM10000_original.csv', index_col=0)"
   ]
  },
  {
   "cell_type": "code",
   "execution_count": 4,
   "id": "e64af108",
   "metadata": {
    "scrolled": true
   },
   "outputs": [
    {
     "data": {
      "text/html": [
       "<div>\n",
       "<style scoped>\n",
       "    .dataframe tbody tr th:only-of-type {\n",
       "        vertical-align: middle;\n",
       "    }\n",
       "\n",
       "    .dataframe tbody tr th {\n",
       "        vertical-align: top;\n",
       "    }\n",
       "\n",
       "    .dataframe thead th {\n",
       "        text-align: right;\n",
       "    }\n",
       "</style>\n",
       "<table border=\"1\" class=\"dataframe\">\n",
       "  <thead>\n",
       "    <tr style=\"text-align: right;\">\n",
       "      <th></th>\n",
       "      <th>lesion_id</th>\n",
       "      <th>image_id</th>\n",
       "      <th>dx</th>\n",
       "      <th>dx_type</th>\n",
       "      <th>age</th>\n",
       "      <th>sex</th>\n",
       "      <th>localization</th>\n",
       "      <th>mole_type</th>\n",
       "      <th>lesion_type</th>\n",
       "      <th>target</th>\n",
       "    </tr>\n",
       "  </thead>\n",
       "  <tbody>\n",
       "    <tr>\n",
       "      <th>10</th>\n",
       "      <td>HAM_0001396</td>\n",
       "      <td>ISIC_0025276</td>\n",
       "      <td>bkl</td>\n",
       "      <td>histo</td>\n",
       "      <td>55.0</td>\n",
       "      <td>female</td>\n",
       "      <td>trunk</td>\n",
       "      <td>benign</td>\n",
       "      <td>2.0</td>\n",
       "      <td>[0.0, 0.0, 1.0, 0.0, 0.0, 0.0, 0.0]</td>\n",
       "    </tr>\n",
       "    <tr>\n",
       "      <th>15</th>\n",
       "      <td>HAM_0007207</td>\n",
       "      <td>ISIC_0031326</td>\n",
       "      <td>bkl</td>\n",
       "      <td>histo</td>\n",
       "      <td>65.0</td>\n",
       "      <td>male</td>\n",
       "      <td>back</td>\n",
       "      <td>benign</td>\n",
       "      <td>2.0</td>\n",
       "      <td>[0.0, 0.0, 1.0, 0.0, 0.0, 0.0, 0.0]</td>\n",
       "    </tr>\n",
       "    <tr>\n",
       "      <th>20</th>\n",
       "      <td>HAM_0006071</td>\n",
       "      <td>ISIC_0032343</td>\n",
       "      <td>bkl</td>\n",
       "      <td>histo</td>\n",
       "      <td>70.0</td>\n",
       "      <td>female</td>\n",
       "      <td>face</td>\n",
       "      <td>benign</td>\n",
       "      <td>2.0</td>\n",
       "      <td>[0.0, 0.0, 1.0, 0.0, 0.0, 0.0, 0.0]</td>\n",
       "    </tr>\n",
       "    <tr>\n",
       "      <th>33</th>\n",
       "      <td>HAM_0005612</td>\n",
       "      <td>ISIC_0024981</td>\n",
       "      <td>bkl</td>\n",
       "      <td>histo</td>\n",
       "      <td>80.0</td>\n",
       "      <td>male</td>\n",
       "      <td>scalp</td>\n",
       "      <td>benign</td>\n",
       "      <td>2.0</td>\n",
       "      <td>[0.0, 0.0, 1.0, 0.0, 0.0, 0.0, 0.0]</td>\n",
       "    </tr>\n",
       "    <tr>\n",
       "      <th>34</th>\n",
       "      <td>HAM_0005388</td>\n",
       "      <td>ISIC_0027815</td>\n",
       "      <td>bkl</td>\n",
       "      <td>histo</td>\n",
       "      <td>80.0</td>\n",
       "      <td>male</td>\n",
       "      <td>chest</td>\n",
       "      <td>benign</td>\n",
       "      <td>2.0</td>\n",
       "      <td>[0.0, 0.0, 1.0, 0.0, 0.0, 0.0, 0.0]</td>\n",
       "    </tr>\n",
       "  </tbody>\n",
       "</table>\n",
       "</div>"
      ],
      "text/plain": [
       "      lesion_id      image_id   dx dx_type   age     sex localization  \\\n",
       "10  HAM_0001396  ISIC_0025276  bkl   histo  55.0  female        trunk   \n",
       "15  HAM_0007207  ISIC_0031326  bkl   histo  65.0    male         back   \n",
       "20  HAM_0006071  ISIC_0032343  bkl   histo  70.0  female         face   \n",
       "33  HAM_0005612  ISIC_0024981  bkl   histo  80.0    male        scalp   \n",
       "34  HAM_0005388  ISIC_0027815  bkl   histo  80.0    male        chest   \n",
       "\n",
       "   mole_type  lesion_type                               target  \n",
       "10    benign          2.0  [0.0, 0.0, 1.0, 0.0, 0.0, 0.0, 0.0]  \n",
       "15    benign          2.0  [0.0, 0.0, 1.0, 0.0, 0.0, 0.0, 0.0]  \n",
       "20    benign          2.0  [0.0, 0.0, 1.0, 0.0, 0.0, 0.0, 0.0]  \n",
       "33    benign          2.0  [0.0, 0.0, 1.0, 0.0, 0.0, 0.0, 0.0]  \n",
       "34    benign          2.0  [0.0, 0.0, 1.0, 0.0, 0.0, 0.0, 0.0]  "
      ]
     },
     "execution_count": 4,
     "metadata": {},
     "output_type": "execute_result"
    }
   ],
   "source": [
    "df.head()"
   ]
  },
  {
   "cell_type": "code",
   "execution_count": 7,
   "id": "a36ed03b",
   "metadata": {},
   "outputs": [
    {
     "name": "stdout",
     "output_type": "stream",
     "text": [
      "<class 'pandas.core.frame.DataFrame'>\n",
      "Int64Index: 5514 entries, 10 to 10008\n",
      "Data columns (total 10 columns):\n",
      " #   Column        Non-Null Count  Dtype  \n",
      "---  ------        --------------  -----  \n",
      " 0   lesion_id     5514 non-null   object \n",
      " 1   image_id      5514 non-null   object \n",
      " 2   dx            5514 non-null   object \n",
      " 3   dx_type       5514 non-null   object \n",
      " 4   age           5514 non-null   float64\n",
      " 5   sex           5514 non-null   object \n",
      " 6   localization  5514 non-null   object \n",
      " 7   mole_type     5514 non-null   object \n",
      " 8   lesion_type   5514 non-null   float64\n",
      " 9   target        5514 non-null   object \n",
      "dtypes: float64(2), object(8)\n",
      "memory usage: 473.9+ KB\n"
     ]
    }
   ],
   "source": [
    "df.info()"
   ]
  },
  {
   "cell_type": "code",
   "execution_count": 5,
   "id": "011a7a15",
   "metadata": {},
   "outputs": [
    {
     "data": {
      "text/plain": [
       "array(['akiec', 'bcc', 'bkl', 'df', 'mel', 'nv', 'vasc'], dtype=object)"
      ]
     },
     "execution_count": 5,
     "metadata": {},
     "output_type": "execute_result"
    }
   ],
   "source": [
    "np.unique(df.dx.values)"
   ]
  },
  {
   "cell_type": "code",
   "execution_count": 6,
   "id": "c84ad0cd",
   "metadata": {},
   "outputs": [
    {
     "data": {
      "image/png": "[encoded data removed]",
      "text/plain": [
       "<Figure size 432x288 with 1 Axes>"
      ]
     },
     "metadata": {
      "needs_background": "light"
     },
     "output_type": "display_data"
    }
   ],
   "source": [
    "ax = sns.countplot(data=df, y='dx')\n",
    "ax.bar_label(container=ax.containers[0])\n",
    "ax.set_title('Training data');"
   ]
  },
  {
   "cell_type": "markdown",
   "id": "082808c3",
   "metadata": {},
   "source": [
    "### Splitting data \n",
    "\n",
    " * test set 20% of total data\n",
    " * validation set 10% of total data\n",
    " * training data 70%"
   ]
  },
  {
   "cell_type": "code",
   "execution_count": 63,
   "id": "34c37bc9",
   "metadata": {},
   "outputs": [],
   "source": [
    "train_df, test_df = model_selection.train_test_split(df, random_state=333, shuffle=True, test_size=.2)"
   ]
  },
  {
   "cell_type": "code",
   "execution_count": 64,
   "id": "4d13cee3",
   "metadata": {},
   "outputs": [],
   "source": [
    "train_df, val_df = model_selection.train_test_split(train_df, random_state=333, shuffle=True, test_size=.1)"
   ]
  },
  {
   "cell_type": "markdown",
   "id": "3cd4a266",
   "metadata": {},
   "source": [
    "### Training data set"
   ]
  },
  {
   "cell_type": "code",
   "execution_count": 65,
   "id": "d1ff4bec",
   "metadata": {},
   "outputs": [
    {
     "data": {
      "image/png": "[encoded data removed]",
      "text/plain": [
       "<Figure size 432x288 with 1 Axes>"
      ]
     },
     "metadata": {
      "needs_background": "light"
     },
     "output_type": "display_data"
    }
   ],
   "source": [
    "ax = sns.countplot(data=train_df, y='dx')\n",
    "ax.bar_label(container=ax.containers[0])\n",
    "ax.set_title('Training data');"
   ]
  },
  {
   "cell_type": "markdown",
   "id": "dec3af50",
   "metadata": {},
   "source": [
    "### Validation dataset"
   ]
  },
  {
   "cell_type": "code",
   "execution_count": 66,
   "id": "06dcb5be",
   "metadata": {},
   "outputs": [
    {
     "data": {
      "image/png": "[encoded data removed]",
      "text/plain": [
       "<Figure size 432x288 with 1 Axes>"
      ]
     },
     "metadata": {
      "needs_background": "light"
     },
     "output_type": "display_data"
    }
   ],
   "source": [
    "ax = sns.countplot(data=val_df, y='dx')\n",
    "ax.bar_label(container=ax.containers[0])\n",
    "ax.set_title('Validation data');"
   ]
  },
  {
   "cell_type": "markdown",
   "id": "0ec5c659",
   "metadata": {},
   "source": [
    "### Test data set"
   ]
  },
  {
   "cell_type": "code",
   "execution_count": 67,
   "id": "cce2890f",
   "metadata": {},
   "outputs": [
    {
     "data": {
      "image/png": "[encoded data removed]",
      "text/plain": [
       "<Figure size 432x288 with 1 Axes>"
      ]
     },
     "metadata": {
      "needs_background": "light"
     },
     "output_type": "display_data"
    }
   ],
   "source": [
    "ax = sns.countplot(data=test_df, y='dx')\n",
    "ax.bar_label(container=ax.containers[0])\n",
    "ax.set_title('Test data');"
   ]
  },
  {
   "cell_type": "code",
   "execution_count": 68,
   "id": "daf32734",
   "metadata": {},
   "outputs": [],
   "source": [
    "test_df.to_csv('../data/HAM10000_test.csv')"
   ]
  },
  {
   "cell_type": "code",
   "execution_count": 69,
   "id": "b067b0a2",
   "metadata": {},
   "outputs": [],
   "source": [
    "train_df.to_csv('../data/HAM10000_train.csv')"
   ]
  },
  {
   "cell_type": "code",
   "execution_count": 70,
   "id": "d5692cbc",
   "metadata": {},
   "outputs": [],
   "source": [
    "val_df.to_csv('../data/HAM10000_val.csv')"
   ]
  },
  {
   "cell_type": "markdown",
   "id": "72cb5ab8",
   "metadata": {},
   "source": [
    "### Split original dataset - with the same proportions"
   ]
  },
  {
   "cell_type": "code",
   "execution_count": 6,
   "id": "4c6c4f6a",
   "metadata": {},
   "outputs": [],
   "source": [
    "train_df, test_df = model_selection.train_test_split(df_or, test_size=.2, shuffle=True)"
   ]
  },
  {
   "cell_type": "markdown",
   "id": "aa02bf86",
   "metadata": {},
   "source": [
    "### Original training data set (with the same lesions)"
   ]
  },
  {
   "cell_type": "code",
   "execution_count": 11,
   "id": "6df144ab",
   "metadata": {},
   "outputs": [
    {
     "data": {
      "image/png": "[encoded data removed]",
      "text/plain": [
       "<Figure size 432x288 with 1 Axes>"
      ]
     },
     "metadata": {
      "needs_background": "light"
     },
     "output_type": "display_data"
    }
   ],
   "source": [
    "ax = sns.countplot(data=train_df, y='dx')\n",
    "ax.bar_label(container=ax.containers[0])\n",
    "ax.set_title('Training data');"
   ]
  },
  {
   "cell_type": "markdown",
   "id": "9306c0fc",
   "metadata": {},
   "source": [
    "### Test dataset"
   ]
  },
  {
   "cell_type": "code",
   "execution_count": 15,
   "id": "dad02c74",
   "metadata": {},
   "outputs": [
    {
     "data": {
      "image/png": "[encoded data removed]",
      "text/plain": [
       "<Figure size 432x288 with 1 Axes>"
      ]
     },
     "metadata": {
      "needs_background": "light"
     },
     "output_type": "display_data"
    }
   ],
   "source": [
    "ax = sns.countplot(data=test_df, y='dx')\n",
    "ax.bar_label(container=ax.containers[0])\n",
    "ax.set_title('Test data');"
   ]
  },
  {
   "cell_type": "code",
   "execution_count": 12,
   "id": "e97f8785",
   "metadata": {},
   "outputs": [],
   "source": [
    "train_df, val_df = model_selection.train_test_split(train_df, test_size=.1, shuffle=True)"
   ]
  },
  {
   "cell_type": "markdown",
   "id": "c22b4653",
   "metadata": {},
   "source": [
    "### Validation dataset (with repetitions of lesions)"
   ]
  },
  {
   "cell_type": "code",
   "execution_count": 14,
   "id": "896fc184",
   "metadata": {},
   "outputs": [
    {
     "data": {
      "image/png": "[encoded data removed]",
      "text/plain": [
       "<Figure size 432x288 with 1 Axes>"
      ]
     },
     "metadata": {
      "needs_background": "light"
     },
     "output_type": "display_data"
    }
   ],
   "source": [
    "ax = sns.countplot(data=val_df, y='dx')\n",
    "ax.bar_label(container=ax.containers[0])\n",
    "ax.set_title('Validation data');"
   ]
  },
  {
   "cell_type": "code",
   "execution_count": 8,
   "id": "5aca70b6",
   "metadata": {},
   "outputs": [],
   "source": [
    "train_df.to_csv('../data/HAM10000_train_org.csv')"
   ]
  },
  {
   "cell_type": "code",
   "execution_count": 9,
   "id": "e9f5501d",
   "metadata": {},
   "outputs": [],
   "source": [
    "test_df.to_csv('../data/HAM10000_test_org.csv')"
   ]
  },
  {
   "cell_type": "code",
   "execution_count": 10,
   "id": "31a32d1d",
   "metadata": {},
   "outputs": [],
   "source": [
    "val_df.to_csv('../data/HAM10000_val_org.csv')"
   ]
  },
  {
   "cell_type": "markdown",
   "id": "3e65c4da",
   "metadata": {},
   "source": [
    "### Unique v2 test/val/train split"
   ]
  },
  {
   "cell_type": "code",
   "execution_count": 5,
   "id": "5c0ad0ed",
   "metadata": {},
   "outputs": [],
   "source": [
    "data = pd.read_csv('../data/HAM_10000_unique_v2.csv')"
   ]
  },
  {
   "cell_type": "code",
   "execution_count": 6,
   "id": "421cd7df",
   "metadata": {},
   "outputs": [
    {
     "data": {
      "text/html": [
       "<div>\n",
       "<style scoped>\n",
       "    .dataframe tbody tr th:only-of-type {\n",
       "        vertical-align: middle;\n",
       "    }\n",
       "\n",
       "    .dataframe tbody tr th {\n",
       "        vertical-align: top;\n",
       "    }\n",
       "\n",
       "    .dataframe thead th {\n",
       "        text-align: right;\n",
       "    }\n",
       "</style>\n",
       "<table border=\"1\" class=\"dataframe\">\n",
       "  <thead>\n",
       "    <tr style=\"text-align: right;\">\n",
       "      <th></th>\n",
       "      <th>lesion_id</th>\n",
       "      <th>image_id</th>\n",
       "      <th>dx</th>\n",
       "      <th>dx_type</th>\n",
       "      <th>age</th>\n",
       "      <th>sex</th>\n",
       "      <th>localization</th>\n",
       "      <th>mole_type</th>\n",
       "      <th>lesion_type</th>\n",
       "      <th>target</th>\n",
       "    </tr>\n",
       "  </thead>\n",
       "  <tbody>\n",
       "    <tr>\n",
       "      <th>0</th>\n",
       "      <td>HAM_0000118</td>\n",
       "      <td>ISIC_0027419</td>\n",
       "      <td>bkl</td>\n",
       "      <td>histo</td>\n",
       "      <td>80.0</td>\n",
       "      <td>male</td>\n",
       "      <td>scalp</td>\n",
       "      <td>benign</td>\n",
       "      <td>2.0</td>\n",
       "      <td>[0.0, 0.0, 1.0, 0.0, 0.0, 0.0, 0.0]</td>\n",
       "    </tr>\n",
       "    <tr>\n",
       "      <th>2</th>\n",
       "      <td>HAM_0002730</td>\n",
       "      <td>ISIC_0026769</td>\n",
       "      <td>bkl</td>\n",
       "      <td>histo</td>\n",
       "      <td>80.0</td>\n",
       "      <td>male</td>\n",
       "      <td>scalp</td>\n",
       "      <td>benign</td>\n",
       "      <td>2.0</td>\n",
       "      <td>[0.0, 0.0, 1.0, 0.0, 0.0, 0.0, 0.0]</td>\n",
       "    </tr>\n",
       "    <tr>\n",
       "      <th>4</th>\n",
       "      <td>HAM_0001466</td>\n",
       "      <td>ISIC_0031633</td>\n",
       "      <td>bkl</td>\n",
       "      <td>histo</td>\n",
       "      <td>75.0</td>\n",
       "      <td>male</td>\n",
       "      <td>ear</td>\n",
       "      <td>benign</td>\n",
       "      <td>2.0</td>\n",
       "      <td>[0.0, 0.0, 1.0, 0.0, 0.0, 0.0, 0.0]</td>\n",
       "    </tr>\n",
       "    <tr>\n",
       "      <th>6</th>\n",
       "      <td>HAM_0002761</td>\n",
       "      <td>ISIC_0029176</td>\n",
       "      <td>bkl</td>\n",
       "      <td>histo</td>\n",
       "      <td>60.0</td>\n",
       "      <td>male</td>\n",
       "      <td>face</td>\n",
       "      <td>benign</td>\n",
       "      <td>2.0</td>\n",
       "      <td>[0.0, 0.0, 1.0, 0.0, 0.0, 0.0, 0.0]</td>\n",
       "    </tr>\n",
       "    <tr>\n",
       "      <th>8</th>\n",
       "      <td>HAM_0005132</td>\n",
       "      <td>ISIC_0025837</td>\n",
       "      <td>bkl</td>\n",
       "      <td>histo</td>\n",
       "      <td>70.0</td>\n",
       "      <td>female</td>\n",
       "      <td>back</td>\n",
       "      <td>benign</td>\n",
       "      <td>2.0</td>\n",
       "      <td>[0.0, 0.0, 1.0, 0.0, 0.0, 0.0, 0.0]</td>\n",
       "    </tr>\n",
       "  </tbody>\n",
       "</table>\n",
       "</div>"
      ],
      "text/plain": [
       "     lesion_id      image_id   dx dx_type   age     sex localization  \\\n",
       "0  HAM_0000118  ISIC_0027419  bkl   histo  80.0    male        scalp   \n",
       "2  HAM_0002730  ISIC_0026769  bkl   histo  80.0    male        scalp   \n",
       "4  HAM_0001466  ISIC_0031633  bkl   histo  75.0    male          ear   \n",
       "6  HAM_0002761  ISIC_0029176  bkl   histo  60.0    male         face   \n",
       "8  HAM_0005132  ISIC_0025837  bkl   histo  70.0  female         back   \n",
       "\n",
       "  mole_type  lesion_type                               target  \n",
       "0    benign          2.0  [0.0, 0.0, 1.0, 0.0, 0.0, 0.0, 0.0]  \n",
       "2    benign          2.0  [0.0, 0.0, 1.0, 0.0, 0.0, 0.0, 0.0]  \n",
       "4    benign          2.0  [0.0, 0.0, 1.0, 0.0, 0.0, 0.0, 0.0]  \n",
       "6    benign          2.0  [0.0, 0.0, 1.0, 0.0, 0.0, 0.0, 0.0]  \n",
       "8    benign          2.0  [0.0, 0.0, 1.0, 0.0, 0.0, 0.0, 0.0]  "
      ]
     },
     "execution_count": 6,
     "metadata": {},
     "output_type": "execute_result"
    }
   ],
   "source": [
    "data.head()"
   ]
  },
  {
   "cell_type": "code",
   "execution_count": 7,
   "id": "fed1e2a6",
   "metadata": {},
   "outputs": [
    {
     "data": {
      "text/plain": [
       "lesion_id       7470\n",
       "image_id        7470\n",
       "dx              7470\n",
       "dx_type         7470\n",
       "age             7470\n",
       "sex             7470\n",
       "localization    7470\n",
       "mole_type       7470\n",
       "lesion_type     7470\n",
       "target          7470\n",
       "dtype: int64"
      ]
     },
     "execution_count": 7,
     "metadata": {},
     "output_type": "execute_result"
    }
   ],
   "source": [
    "data.count()"
   ]
  },
  {
   "cell_type": "code",
   "execution_count": 8,
   "id": "1ec9d7c7",
   "metadata": {},
   "outputs": [
    {
     "data": {
      "image/png": "[encoded data removed]",
      "text/plain": [
       "<Figure size 432x288 with 1 Axes>"
      ]
     },
     "metadata": {
      "needs_background": "light"
     },
     "output_type": "display_data"
    }
   ],
   "source": [
    "ax = sns.countplot(data=data, y='dx')\n",
    "ax.bar_label(container=ax.containers[0])\n",
    "ax.set_title('Images without repetetive lesions');"
   ]
  },
  {
   "cell_type": "code",
   "execution_count": 9,
   "id": "fd8fecf4",
   "metadata": {},
   "outputs": [],
   "source": [
    "train_df, test_df = model_selection.train_test_split(data, test_size=.2, shuffle=True, random_state=333)"
   ]
  },
  {
   "cell_type": "code",
   "execution_count": 10,
   "id": "107a562b",
   "metadata": {},
   "outputs": [
    {
     "data": {
      "image/png": "[encoded data removed]",
      "text/plain": [
       "<Figure size 432x288 with 1 Axes>"
      ]
     },
     "metadata": {
      "needs_background": "light"
     },
     "output_type": "display_data"
    }
   ],
   "source": [
    "ax = sns.countplot(data=test_df, y='dx')\n",
    "ax.bar_label(container=ax.containers[0])\n",
    "ax.set_title('Test data');"
   ]
  },
  {
   "cell_type": "code",
   "execution_count": 11,
   "id": "ffcd6edf",
   "metadata": {},
   "outputs": [],
   "source": [
    "train_df, val_df = model_selection.train_test_split(train_df, test_size=.2, shuffle=True, random_state=333)"
   ]
  },
  {
   "cell_type": "code",
   "execution_count": 13,
   "id": "577057f8",
   "metadata": {},
   "outputs": [
    {
     "data": {
      "image/png": "[encoded data removed]",
      "text/plain": [
       "<Figure size 432x288 with 1 Axes>"
      ]
     },
     "metadata": {
      "needs_background": "light"
     },
     "output_type": "display_data"
    }
   ],
   "source": [
    "ax = sns.countplot(data=train_df, y='dx')\n",
    "ax.bar_label(container=ax.containers[0])\n",
    "ax.set_title('Training data');"
   ]
  },
  {
   "cell_type": "code",
   "execution_count": 22,
   "id": "470f6e7e",
   "metadata": {},
   "outputs": [
    {
     "data": {
      "image/png": "[encoded data removed]",
      "text/plain": [
       "<Figure size 432x288 with 1 Axes>"
      ]
     },
     "metadata": {
      "needs_background": "light"
     },
     "output_type": "display_data"
    }
   ],
   "source": [
    "ax = sns.countplot(data=val_df, y='dx')\n",
    "ax.bar_label(container=ax.containers[0])\n",
    "ax.set_title('Validation data');"
   ]
  },
  {
   "cell_type": "code",
   "execution_count": 24,
   "id": "f51553cd",
   "metadata": {},
   "outputs": [],
   "source": [
    "train_df.to_csv('HAM10000_unique_train_v2.csv')"
   ]
  },
  {
   "cell_type": "code",
   "execution_count": 25,
   "id": "b0dcd27c",
   "metadata": {},
   "outputs": [],
   "source": [
    "val_df.to_csv('../data/HAM10000_unique_val_v2.csv')"
   ]
  },
  {
   "cell_type": "code",
   "execution_count": 26,
   "id": "890a34c9",
   "metadata": {},
   "outputs": [],
   "source": [
    "test_df.to_csv('../data/HAM10000_unique_test_v2.csv')"
   ]
  },
  {
   "cell_type": "code",
   "execution_count": null,
   "id": "7356ad90",
   "metadata": {},
   "outputs": [],
   "source": []
  }
 ],
 "metadata": {
  "kernelspec": {
   "display_name": "Python 3.8.13 ('HAM10000')",
   "language": "python",
   "name": "python3"
  },
  "language_info": {
   "codemirror_mode": {
    "name": "ipython",
    "version": 3
   },
   "file_extension": ".py",
   "mimetype": "text/x-python",
   "name": "python",
   "nbconvert_exporter": "python",
   "pygments_lexer": "ipython3",
   "version": "3.8.13"
  },
  "vscode": {
   "interpreter": {
    "hash": "3d546ea173f65e410b8e33d43404477b08d76d01563335436690e0f10fb3687a"
   }
  }
 },
 "nbformat": 4,
 "nbformat_minor": 5
}
